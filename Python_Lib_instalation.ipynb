{
 "cells": [
  {
   "cell_type": "code",
   "execution_count": 1,
   "metadata": {},
   "outputs": [],
   "source": [
    "# import and install the python library from the list\n",
    "\n",
    "lib_list=['sys','os','numpy','pandas','pytesseract']\n",
    "lib_name=['sys','os','np','pd','pt']\n",
    "for library in lib_list:\n",
    "    try:\n",
    "        exec(\"import {module}\".format(module=library))\n",
    "    except Exception as e:\n",
    "        print(e)\n",
    "        os.system('pip install %s' % library)\n",
    "        exec(\"import {module}\".format(module=library))\n",
    "        print (library ,\"is installed\")\n",
    "#print(sys.argv)\n",
    "\n"
   ]
  },
  {
   "cell_type": "code",
   "execution_count": 2,
   "metadata": {},
   "outputs": [],
   "source": [
    "# import and install the python library from the list with an abbreviation\n",
    "\n",
    "lib_list=['sys','os','numpy','pandas','pytesseract','scipy']\n",
    "lib_name=['sys','os','np','pd','pt','scipy']\n",
    "for library in lib_list:\n",
    "    lib_ab=lib_name[lib_list.index(library)]\n",
    "    \n",
    "    try:\n",
    "        exec(\"import {module} as {m}\".format(module=library,m=lib_ab))\n",
    "    except Exception as e:\n",
    "        print(e)\n",
    "        os.system('pip install %s' % library)\n",
    "        exec(\"import {module} as {m}\".format(module=library,m=lib_ab))\n",
    "        print (library ,\"is installed\")\n",
    "#print(sys.argv)"
   ]
  },
  {
   "cell_type": "code",
   "execution_count": 3,
   "metadata": {},
   "outputs": [
    {
     "name": "stdout",
     "output_type": "stream",
     "text": [
      "Empty DataFrame\n",
      "Columns: []\n",
      "Index: []\n"
     ]
    }
   ],
   "source": [
    "df=pd.DataFrame()\n",
    "print (df)"
   ]
  },
  {
   "cell_type": "code",
   "execution_count": null,
   "metadata": {},
   "outputs": [],
   "source": []
  }
 ],
 "metadata": {
  "kernelspec": {
   "display_name": "Python 3",
   "language": "python",
   "name": "python3"
  },
  "language_info": {
   "codemirror_mode": {
    "name": "ipython",
    "version": 3
   },
   "file_extension": ".py",
   "mimetype": "text/x-python",
   "name": "python",
   "nbconvert_exporter": "python",
   "pygments_lexer": "ipython3",
   "version": "3.7.3"
  }
 },
 "nbformat": 4,
 "nbformat_minor": 2
}
